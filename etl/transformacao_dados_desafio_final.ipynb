{
 "cells": [
  {
   "cell_type": "code",
   "execution_count": 350,
   "metadata": {},
   "outputs": [],
   "source": [
    "import pandas as pd"
   ]
  },
  {
   "cell_type": "code",
   "execution_count": 351,
   "metadata": {},
   "outputs": [],
   "source": [
    "df = pd.read_csv('https://www.gov.br/anp/pt-br/centrais-de-conteudo/dados-abertos/arquivos-painel-de-produtores-de-derivados-vendas-de-derivados-de-petroleo-e-biocombustiveis/biodiesel_dadosabertos_csv_vendas.csv', sep=',')"
   ]
  },
  {
   "cell_type": "code",
   "execution_count": 352,
   "metadata": {},
   "outputs": [
    {
     "data": {
      "text/plain": [
       "Mês/Ano                0\n",
       "Região Origem          0\n",
       "Região Destino         0\n",
       "Vendas de Biodiesel    0\n",
       "dtype: int64"
      ]
     },
     "execution_count": 352,
     "metadata": {},
     "output_type": "execute_result"
    }
   ],
   "source": [
    "#Verifica se existem valores nulos na tabela\n",
    "df.isna().sum()"
   ]
  },
  {
   "cell_type": "code",
   "execution_count": 353,
   "metadata": {},
   "outputs": [
    {
     "data": {
      "text/plain": [
       "array(['NORDESTE', 'CENTRO OESTE', 'NORTE', 'SUDESTE', 'SUL',\n",
       "       'NÃO INFORMADA'], dtype=object)"
      ]
     },
     "execution_count": 353,
     "metadata": {},
     "output_type": "execute_result"
    }
   ],
   "source": [
    "#Verifica se todas as regiões são únicas\n",
    "df['Região Destino'].unique()"
   ]
  },
  {
   "cell_type": "code",
   "execution_count": 354,
   "metadata": {},
   "outputs": [],
   "source": [
    "#Dropa as linhas que possuem como \"região destino\" o valor \"não informada\"\n",
    "df.drop(df.loc[df['Região Destino']=='NÃO INFORMADA'].index, inplace=True)\n"
   ]
  },
  {
   "cell_type": "code",
   "execution_count": 355,
   "metadata": {},
   "outputs": [
    {
     "data": {
      "text/plain": [
       "array(['NORDESTE', 'CENTRO OESTE', 'NORTE', 'SUDESTE', 'SUL'],\n",
       "      dtype=object)"
      ]
     },
     "execution_count": 355,
     "metadata": {},
     "output_type": "execute_result"
    }
   ],
   "source": [
    "#Confirma se agora todas as regiões estão únicas\n",
    "df['Região Destino'].unique()"
   ]
  },
  {
   "cell_type": "code",
   "execution_count": 356,
   "metadata": {},
   "outputs": [
    {
     "data": {
      "text/plain": [
       "29834729"
      ]
     },
     "execution_count": 356,
     "metadata": {},
     "output_type": "execute_result"
    }
   ],
   "source": [
    "#Soma os valores de todas as vendas de biodesel \n",
    "soma_vendas_biodisel = df['Vendas de Biodiesel'].sum()\n",
    "soma_vendas_biodisel"
   ]
  },
  {
   "cell_type": "code",
   "execution_count": 357,
   "metadata": {},
   "outputs": [
    {
     "data": {
      "text/plain": [
       "Mês/Ano                object\n",
       "Região Origem          object\n",
       "Região Destino         object\n",
       "Vendas de Biodiesel     int64\n",
       "dtype: object"
      ]
     },
     "execution_count": 357,
     "metadata": {},
     "output_type": "execute_result"
    }
   ],
   "source": [
    "#Verifica os tipos das colunas\n",
    "df.dtypes"
   ]
  },
  {
   "cell_type": "code",
   "execution_count": 358,
   "metadata": {},
   "outputs": [],
   "source": [
    "#Exclui a coluna \"Região Origem\"\n",
    "df.drop(['Região Origem'],axis=1,inplace=True)"
   ]
  },
  {
   "cell_type": "code",
   "execution_count": 359,
   "metadata": {},
   "outputs": [],
   "source": [
    "#Substitui os valores de \"mês e ano\" por apenas \"ano\"\n",
    "df['Mês/Ano'].replace(['01/2017', '02/2017', '03/2017', '04/2017', '05/2017', '06/2017', '07/2017', '08/2017', '09/2017', '10/2017', '11/2017', '12/2017'],\n",
    "                          ['2017', '2017', '2017', '2017', '2017', '2017', '2017', '2017', '2017', '2017', '2017', '2017'], inplace=True)\n",
    "\n",
    "df['Mês/Ano'].replace(['01/2018', '02/2018', '03/2018', '04/2018', '05/2018', '06/2018', '07/2018', '08/2018', '09/2018', '10/2018', '11/2018', '12/2018'],\n",
    "                          ['2018', '2018', '2018', '2018', '2018', '2018', '2018', '2018', '2018', '2018', '2018', '2018'], inplace=True)\n",
    "\n",
    "df['Mês/Ano'].replace(['01/2019', '02/2019', '03/2019', '04/2019', '05/2019', '06/2019', '07/2019', '08/2019', '09/2019', '10/2019', '11/2019', '12/2019'],\n",
    "                          ['2019', '2019', '2019', '2019', '2019', '2019', '2019', '2019', '2019', '2019', '2019', '2019'], inplace=True)\n",
    "\n",
    "df['Mês/Ano'].replace(['01/2020', '02/2020', '03/2020', '04/2020', '05/2020', '06/2020', '07/2020', '08/2020', '09/2020', '10/2020', '11/2020', '12/2020'],\n",
    "                          ['2020', '2020', '2020', '2020', '2020', '2020', '2020', '2020', '2020', '2020', '2020', '2020'], inplace=True)\n",
    "\n",
    "df['Mês/Ano'].replace(['01/2021', '02/2021', '03/2021', '04/2021', '05/2021', '06/2021', '07/2021', '08/2021', '09/2021', '10/2021', '11/2021', '12/2021'],\n",
    "                          ['2021', '2021', '2021', '2021', '2021', '2021', '2021', '2021', '2021', '2021', '2021', '2021'], inplace=True)\n",
    "\n",
    "df['Mês/Ano'].replace(['01/2022', '02/2022', '03/2022'],\n",
    "                          ['2022', '2022', '2022'], inplace=True)"
   ]
  },
  {
   "cell_type": "code",
   "execution_count": 360,
   "metadata": {},
   "outputs": [],
   "source": [
    "#Renomeia as colunas para \"ano\", \"regiao\", \"vendas_biodiesel\"\n",
    "df.rename(columns={\"Mês/Ano\": \"ano\", \"Região Destino\": \"regiao\", \"Vendas de Biodiesel\": \"vendas_biodiesel\" }, inplace=True)"
   ]
  },
  {
   "cell_type": "code",
   "execution_count": 361,
   "metadata": {},
   "outputs": [
    {
     "data": {
      "text/html": [
       "<div>\n",
       "<style scoped>\n",
       "    .dataframe tbody tr th:only-of-type {\n",
       "        vertical-align: middle;\n",
       "    }\n",
       "\n",
       "    .dataframe tbody tr th {\n",
       "        vertical-align: top;\n",
       "    }\n",
       "\n",
       "    .dataframe thead th {\n",
       "        text-align: right;\n",
       "    }\n",
       "</style>\n",
       "<table border=\"1\" class=\"dataframe\">\n",
       "  <thead>\n",
       "    <tr style=\"text-align: right;\">\n",
       "      <th></th>\n",
       "      <th></th>\n",
       "      <th>vendas_biodiesel</th>\n",
       "    </tr>\n",
       "    <tr>\n",
       "      <th>ano</th>\n",
       "      <th>regiao</th>\n",
       "      <th></th>\n",
       "    </tr>\n",
       "  </thead>\n",
       "  <tbody>\n",
       "    <tr>\n",
       "      <th rowspan=\"5\" valign=\"top\">2017</th>\n",
       "      <th>CENTRO OESTE</th>\n",
       "      <td>521645</td>\n",
       "    </tr>\n",
       "    <tr>\n",
       "      <th>NORDESTE</th>\n",
       "      <td>811039</td>\n",
       "    </tr>\n",
       "    <tr>\n",
       "      <th>NORTE</th>\n",
       "      <td>185089</td>\n",
       "    </tr>\n",
       "    <tr>\n",
       "      <th>SUDESTE</th>\n",
       "      <td>1530357</td>\n",
       "    </tr>\n",
       "    <tr>\n",
       "      <th>SUL</th>\n",
       "      <td>1025537</td>\n",
       "    </tr>\n",
       "    <tr>\n",
       "      <th rowspan=\"5\" valign=\"top\">2018</th>\n",
       "      <th>CENTRO OESTE</th>\n",
       "      <td>783211</td>\n",
       "    </tr>\n",
       "    <tr>\n",
       "      <th>NORDESTE</th>\n",
       "      <td>846813</td>\n",
       "    </tr>\n",
       "    <tr>\n",
       "      <th>NORTE</th>\n",
       "      <td>439799</td>\n",
       "    </tr>\n",
       "    <tr>\n",
       "      <th>SUDESTE</th>\n",
       "      <td>1992401</td>\n",
       "    </tr>\n",
       "    <tr>\n",
       "      <th>SUL</th>\n",
       "      <td>1228435</td>\n",
       "    </tr>\n",
       "    <tr>\n",
       "      <th rowspan=\"5\" valign=\"top\">2019</th>\n",
       "      <th>SUDESTE</th>\n",
       "      <td>2207932</td>\n",
       "    </tr>\n",
       "    <tr>\n",
       "      <th>NORTE</th>\n",
       "      <td>475148</td>\n",
       "    </tr>\n",
       "    <tr>\n",
       "      <th>SUL</th>\n",
       "      <td>1333895</td>\n",
       "    </tr>\n",
       "    <tr>\n",
       "      <th>CENTRO OESTE</th>\n",
       "      <td>926054</td>\n",
       "    </tr>\n",
       "    <tr>\n",
       "      <th>NORDESTE</th>\n",
       "      <td>926905</td>\n",
       "    </tr>\n",
       "    <tr>\n",
       "      <th rowspan=\"5\" valign=\"top\">2020</th>\n",
       "      <th>CENTRO OESTE</th>\n",
       "      <td>1014767</td>\n",
       "    </tr>\n",
       "    <tr>\n",
       "      <th>NORDESTE</th>\n",
       "      <td>977567</td>\n",
       "    </tr>\n",
       "    <tr>\n",
       "      <th>NORTE</th>\n",
       "      <td>559484</td>\n",
       "    </tr>\n",
       "    <tr>\n",
       "      <th>SUDESTE</th>\n",
       "      <td>2347349</td>\n",
       "    </tr>\n",
       "    <tr>\n",
       "      <th>SUL</th>\n",
       "      <td>1501653</td>\n",
       "    </tr>\n",
       "    <tr>\n",
       "      <th rowspan=\"5\" valign=\"top\">2021</th>\n",
       "      <th>SUL</th>\n",
       "      <td>1675950</td>\n",
       "    </tr>\n",
       "    <tr>\n",
       "      <th>SUDESTE</th>\n",
       "      <td>2632556</td>\n",
       "    </tr>\n",
       "    <tr>\n",
       "      <th>NORDESTE</th>\n",
       "      <td>714533</td>\n",
       "    </tr>\n",
       "    <tr>\n",
       "      <th>CENTRO OESTE</th>\n",
       "      <td>1218034</td>\n",
       "    </tr>\n",
       "    <tr>\n",
       "      <th>NORTE</th>\n",
       "      <td>564875</td>\n",
       "    </tr>\n",
       "    <tr>\n",
       "      <th rowspan=\"5\" valign=\"top\">2022</th>\n",
       "      <th>SUDESTE</th>\n",
       "      <td>497869</td>\n",
       "    </tr>\n",
       "    <tr>\n",
       "      <th>CENTRO OESTE</th>\n",
       "      <td>201950</td>\n",
       "    </tr>\n",
       "    <tr>\n",
       "      <th>NORDESTE</th>\n",
       "      <td>201447</td>\n",
       "    </tr>\n",
       "    <tr>\n",
       "      <th>NORTE</th>\n",
       "      <td>161890</td>\n",
       "    </tr>\n",
       "    <tr>\n",
       "      <th>SUL</th>\n",
       "      <td>330545</td>\n",
       "    </tr>\n",
       "  </tbody>\n",
       "</table>\n",
       "</div>"
      ],
      "text/plain": [
       "                   vendas_biodiesel\n",
       "ano  regiao                        \n",
       "2017 CENTRO OESTE            521645\n",
       "     NORDESTE                811039\n",
       "     NORTE                   185089\n",
       "     SUDESTE                1530357\n",
       "     SUL                    1025537\n",
       "2018 CENTRO OESTE            783211\n",
       "     NORDESTE                846813\n",
       "     NORTE                   439799\n",
       "     SUDESTE                1992401\n",
       "     SUL                    1228435\n",
       "2019 SUDESTE                2207932\n",
       "     NORTE                   475148\n",
       "     SUL                    1333895\n",
       "     CENTRO OESTE            926054\n",
       "     NORDESTE                926905\n",
       "2020 CENTRO OESTE           1014767\n",
       "     NORDESTE                977567\n",
       "     NORTE                   559484\n",
       "     SUDESTE                2347349\n",
       "     SUL                    1501653\n",
       "2021 SUL                    1675950\n",
       "     SUDESTE                2632556\n",
       "     NORDESTE                714533\n",
       "     CENTRO OESTE           1218034\n",
       "     NORTE                   564875\n",
       "2022 SUDESTE                 497869\n",
       "     CENTRO OESTE            201950\n",
       "     NORDESTE                201447\n",
       "     NORTE                   161890\n",
       "     SUL                     330545"
      ]
     },
     "execution_count": 361,
     "metadata": {},
     "output_type": "execute_result"
    }
   ],
   "source": [
    "#Agrupa o dataframe por \"ano\" e \"regiao\" e soma o valor referente as respectivas \"vendas_biodisel\"\n",
    "df_tratado = df.groupby(by=['ano', 'regiao']).sum().sort_values(by='ano')\n",
    "df_tratado"
   ]
  },
  {
   "cell_type": "code",
   "execution_count": 362,
   "metadata": {},
   "outputs": [
    {
     "data": {
      "text/plain": [
       "29834729"
      ]
     },
     "execution_count": 362,
     "metadata": {},
     "output_type": "execute_result"
    }
   ],
   "source": [
    "#Soma os valores de todas as vendas de biodesel do dataframe tratado\n",
    "soma_vendas_biodisel_tratado = df_tratado['vendas_biodiesel'].sum()\n",
    "soma_vendas_biodisel_tratado"
   ]
  },
  {
   "cell_type": "code",
   "execution_count": 363,
   "metadata": {},
   "outputs": [],
   "source": [
    "#Exporta o dataframe tratado para um CSV\n",
    "df_tratado.to_csv('teste.csv')"
   ]
  }
 ],
 "metadata": {
  "kernelspec": {
   "display_name": "Python 3.10.4 64-bit",
   "language": "python",
   "name": "python3"
  },
  "language_info": {
   "codemirror_mode": {
    "name": "ipython",
    "version": 3
   },
   "file_extension": ".py",
   "mimetype": "text/x-python",
   "name": "python",
   "nbconvert_exporter": "python",
   "pygments_lexer": "ipython3",
   "version": "3.10.4"
  },
  "orig_nbformat": 4,
  "vscode": {
   "interpreter": {
    "hash": "fbc519da0ed9876a1c3f2e51bf058526db0ef18d61620dadad31257be237ace9"
   }
  }
 },
 "nbformat": 4,
 "nbformat_minor": 2
}
